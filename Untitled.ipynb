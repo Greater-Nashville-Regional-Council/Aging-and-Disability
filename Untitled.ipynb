{
 "cells": [
  {
   "cell_type": "markdown",
   "id": "856b682b",
   "metadata": {},
   "source": [
    "•\tTotal older adult (60+ if possible) population in the 13-county region in 2010  \n",
    "•\tTotal older adult (60+ if possible) population in the 13-county region in 2020  \n",
    "•\tTotal disabled population in the 13-county region in 2010  \n",
    "•\tTotal disabled population in the 13-county region in 2020  \n"
   ]
  },
  {
   "cell_type": "code",
   "execution_count": 1,
   "id": "132deada",
   "metadata": {},
   "outputs": [],
   "source": [
    "#imports\n",
    "import pandas as pd\n",
    "import numpy as np\n",
    "import matplotlib as mpl\n",
    "from matplotlib import rcParams\n",
    "import matplotlib.pyplot as plt\n",
    "import matplotlib.ticker as ticker\n",
    "from matplotlib import cycler\n",
    "from matplotlib.ticker import StrMethodFormatter\n",
    "from matplotlib.axis import Axis\n",
    "from matplotlib.patches import FancyBboxPatch\n",
    "from matplotlib.font_manager import FontProperties\n",
    "import sqlite3 as sq\n",
    "from functools import reduce\n",
    "#settings\n",
    "pd.set_option('display.max_columns', None)\n",
    "pd.set_option('display.max_rows', None)\n",
    "pd.set_option('display.width', 150)\n",
    "pd.options.mode.chained_assignment = None  # default='warn'\n",
    "from warnings import simplefilter\n",
    "simplefilter(action=\"ignore\", category=pd.errors.PerformanceWarning)\n",
    "import sys\n",
    "sys.path.append(\"../../\") # Adds higher directory to python modules path"
   ]
  },
  {
   "cell_type": "code",
   "execution_count": 12,
   "id": "7d2086e3",
   "metadata": {},
   "outputs": [],
   "source": [
    "conn = sq.connect('../GNRC-Data-Pipelines/Outputs/CensusBureau.db')\n",
    "#2010 Decennial and ACS5\n",
    "sql_query = pd.read_sql('SELECT * FROM [CensusBureau_ACS5_2010]', conn)\n",
    "ACS52010 = pd.DataFrame(sql_query)\n",
    "ACS52010.drop(columns = 'Source', inplace = True)\n",
    "#PL2020\n",
    "sql_query = pd.read_sql('SELECT * FROM [CensusBureau_SF1_2010]', conn)\n",
    "DEC2010 = pd.DataFrame(sql_query)\n",
    "DEC2010.drop(columns = 'Source', inplace = True)\n",
    "#2020PL and 2021 ACS5\n",
    "sql_query = pd.read_sql('SELECT * FROM [CensusBureau_ACS5_2021]', conn)\n",
    "ACS52021 = pd.DataFrame(sql_query)\n",
    "ACS52021.drop(columns = 'Source', inplace = True)\n",
    "#PL2020\n",
    "sql_query = pd.read_sql('SELECT * FROM [CensusBureau_PL_2020]', conn)\n",
    "PL2020 = pd.DataFrame(sql_query)\n",
    "PL2020.drop(columns = 'Source', inplace = True)"
   ]
  },
  {
   "cell_type": "code",
   "execution_count": 13,
   "id": "0f97e8ca",
   "metadata": {},
   "outputs": [],
   "source": [
    "cols = ['Age:55 and Older', 'Age%:55 and Older', 'Age:65 and Older', 'Age%:65 and Older', 'Disability:With Disability', 'Disability%:With Disability']"
   ]
  },
  {
   "cell_type": "code",
   "execution_count": 14,
   "id": "04060e51",
   "metadata": {},
   "outputs": [
    {
     "data": {
      "text/html": [
       "<div>\n",
       "<style scoped>\n",
       "    .dataframe tbody tr th:only-of-type {\n",
       "        vertical-align: middle;\n",
       "    }\n",
       "\n",
       "    .dataframe tbody tr th {\n",
       "        vertical-align: top;\n",
       "    }\n",
       "\n",
       "    .dataframe thead th {\n",
       "        text-align: right;\n",
       "    }\n",
       "</style>\n",
       "<table border=\"1\" class=\"dataframe\">\n",
       "  <thead>\n",
       "    <tr style=\"text-align: right;\">\n",
       "      <th></th>\n",
       "      <th>Age:55 and Older</th>\n",
       "      <th>Age%:55 and Older</th>\n",
       "      <th>Age:65 and Older</th>\n",
       "      <th>Age%:65 and Older</th>\n",
       "    </tr>\n",
       "  </thead>\n",
       "  <tbody>\n",
       "    <tr>\n",
       "      <th>75</th>\n",
       "      <td>367968.0</td>\n",
       "      <td>21.360603</td>\n",
       "      <td>179332.0</td>\n",
       "      <td>10.410252</td>\n",
       "    </tr>\n",
       "  </tbody>\n",
       "</table>\n",
       "</div>"
      ],
      "text/plain": [
       "    Age:55 and Older  Age%:55 and Older  Age:65 and Older  Age%:65 and Older\n",
       "75          367968.0          21.360603          179332.0          10.410252"
      ]
     },
     "execution_count": 14,
     "metadata": {},
     "output_type": "execute_result"
    }
   ],
   "source": [
    "DEC2010 = DEC2010.loc[DEC2010['NAME'] == 'GNRC']\n",
    "DEC2010 = DEC2010[['Age:55 and Older', 'Age%:55 and Older', 'Age:65 and Older', 'Age%:65 and Older']]\n",
    "DEC2010"
   ]
  },
  {
   "cell_type": "code",
   "execution_count": 15,
   "id": "d461696a",
   "metadata": {},
   "outputs": [
    {
     "data": {
      "text/html": [
       "<div>\n",
       "<style scoped>\n",
       "    .dataframe tbody tr th:only-of-type {\n",
       "        vertical-align: middle;\n",
       "    }\n",
       "\n",
       "    .dataframe tbody tr th {\n",
       "        vertical-align: top;\n",
       "    }\n",
       "\n",
       "    .dataframe thead th {\n",
       "        text-align: right;\n",
       "    }\n",
       "</style>\n",
       "<table border=\"1\" class=\"dataframe\">\n",
       "  <thead>\n",
       "    <tr style=\"text-align: right;\">\n",
       "      <th></th>\n",
       "      <th>Age:55 and Older</th>\n",
       "      <th>Age%:55 and Older</th>\n",
       "      <th>Age:65 and Older</th>\n",
       "      <th>Age%:65 and Older</th>\n",
       "      <th>Disability:With Disability</th>\n",
       "      <th>Disability%:With Disability</th>\n",
       "    </tr>\n",
       "  </thead>\n",
       "  <tbody>\n",
       "    <tr>\n",
       "      <th>274</th>\n",
       "      <td>509632.0</td>\n",
       "      <td>24.741339</td>\n",
       "      <td>263074.0</td>\n",
       "      <td>12.771574</td>\n",
       "      <td>241387.0</td>\n",
       "      <td>11.889995</td>\n",
       "    </tr>\n",
       "  </tbody>\n",
       "</table>\n",
       "</div>"
      ],
      "text/plain": [
       "     Age:55 and Older  Age%:55 and Older  Age:65 and Older  Age%:65 and Older  Disability:With Disability  Disability%:With Disability\n",
       "274          509632.0          24.741339          263074.0          12.771574                    241387.0                    11.889995"
      ]
     },
     "execution_count": 15,
     "metadata": {},
     "output_type": "execute_result"
    }
   ],
   "source": [
    "ACS52021 = ACS52021.loc[ACS52021['NAME'] == 'GNRC']\n",
    "ACS52021 = ACS52021[['Age:55 and Older', 'Age%:55 and Older', 'Age:65 and Older', 'Age%:65 and Older', 'Disability:With Disability', 'Disability%:With Disability']]\n",
    "ACS52021"
   ]
  },
  {
   "cell_type": "code",
   "execution_count": null,
   "id": "c6e3c2dd",
   "metadata": {},
   "outputs": [],
   "source": []
  }
 ],
 "metadata": {
  "kernelspec": {
   "display_name": "Python 3 (ipykernel)",
   "language": "python",
   "name": "python3"
  },
  "language_info": {
   "codemirror_mode": {
    "name": "ipython",
    "version": 3
   },
   "file_extension": ".py",
   "mimetype": "text/x-python",
   "name": "python",
   "nbconvert_exporter": "python",
   "pygments_lexer": "ipython3",
   "version": "3.8.16"
  }
 },
 "nbformat": 4,
 "nbformat_minor": 5
}
