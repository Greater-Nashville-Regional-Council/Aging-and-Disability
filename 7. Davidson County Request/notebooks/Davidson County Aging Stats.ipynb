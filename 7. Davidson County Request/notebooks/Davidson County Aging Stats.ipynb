{
 "cells": [
  {
   "cell_type": "markdown",
   "id": "a96617cd",
   "metadata": {},
   "source": [
    "###### Imports and Settings"
   ]
  },
  {
   "cell_type": "code",
   "execution_count": 1,
   "id": "b601a0e8",
   "metadata": {},
   "outputs": [],
   "source": [
    "import pandas as pd\n",
    "#import geopandas as gpd\n",
    "import numpy as np\n",
    "import requests\n",
    "import io\n",
    "import pickle\n",
    "import matplotlib.pyplot as plt\n",
    "from collections import deque\n",
    "from functools import reduce\n",
    "%matplotlib inline\n",
    "pd.set_option('display.max_columns', None)\n",
    "pd.set_option('display.max_rows', None)\n",
    "pd.set_option('display.width', 150)"
   ]
  },
  {
   "cell_type": "markdown",
   "id": "909e51ec",
   "metadata": {},
   "source": [
    "###### Functions"
   ]
  },
  {
   "cell_type": "code",
   "execution_count": 2,
   "id": "d25a9750",
   "metadata": {},
   "outputs": [],
   "source": [
    "def percent(x, y):\n",
    "    return round((x/y)*100, 2)"
   ]
  },
  {
   "cell_type": "markdown",
   "id": "4faf7679",
   "metadata": {},
   "source": [
    "###### API Key"
   ]
  },
  {
   "cell_type": "code",
   "execution_count": 3,
   "id": "e132090a",
   "metadata": {},
   "outputs": [],
   "source": [
    "#to read in... rb is read bite\n",
    "with open('api_keys.pkl', 'rb') as keys_file:\n",
    "        keys_dict_2 = pickle.load(keys_file)    \n",
    "#create a variable that contains your api key\n",
    "api_key = keys_dict_2['CENSUS']"
   ]
  },
  {
   "cell_type": "markdown",
   "id": "e334a0f7",
   "metadata": {},
   "source": [
    "## Read in Data Guide"
   ]
  },
  {
   "cell_type": "markdown",
   "id": "7463829e",
   "metadata": {},
   "source": [
    "+ dg1: ID's 1 - 46  \n",
    "+ dg2: ID's 47-92 \n",
    "+ dg3: ID's 93-138  "
   ]
  },
  {
   "cell_type": "code",
   "execution_count": 4,
   "id": "2799d9dd",
   "metadata": {},
   "outputs": [],
   "source": [
    "dataguide = pd.read_csv('../data guides/dataguide.csv', dtype = str)\n",
    "dataguide['ID'] = dataguide['ID'].astype(int)"
   ]
  },
  {
   "cell_type": "code",
   "execution_count": 5,
   "id": "2a778cdf",
   "metadata": {},
   "outputs": [],
   "source": [
    "dg1 = dataguide[dataguide['ID'].between(1, 46)]\n",
    "dg2 = dataguide[dataguide['ID'].between(47, 92)]\n",
    "dg3 = dataguide[dataguide['ID'].between(93, 138)]"
   ]
  },
  {
   "cell_type": "code",
   "execution_count": 38,
   "id": "320958a2",
   "metadata": {},
   "outputs": [
    {
     "name": "stdout",
     "output_type": "stream",
     "text": [
      "Okay Finished\n"
     ]
    }
   ],
   "source": [
    "head1 = 'NAME' #ONE: listparams\n",
    "head2 = 'GEO_ID'\n",
    "tail_cols1 = 'StateFIPS'\n",
    "tail_cols2 = 'GeoFIPS'\n",
    "var_list = list(dg1['ACS Variable']) #make variables list\n",
    "var_list = deque(var_list) #add stuff to variables list\n",
    "var_list.appendleft(head2)\n",
    "var_list.appendleft(head1)\n",
    "var_list = list(var_list)\n",
    "col_list = list(dg1['Column Name']) #make columns list\n",
    "col_list.append(tail_cols1) #add stuff to columns list\n",
    "col_list.append(tail_cols2)\n",
    "col_list = deque(col_list)\n",
    "col_list.appendleft(head2)\n",
    "col_list.appendleft(head1)\n",
    "col_list = list(col_list)\n",
    "url_str= 'https://api.census.gov/data/2020/acs/acs5?key='+api_key\n",
    "predicates= {}\n",
    "get_vars= var_list\n",
    "predicates[\"get\"]= \",\". join(get_vars)\n",
    "predicates[\"for\"]= \"county:037\"\n",
    "predicates[\"in\"]= \"state:47\"\n",
    "data= requests.get(url_str, params= predicates)\n",
    "col_names = col_list\n",
    "one=pd.DataFrame(columns=col_names, data=data.json()[1:], dtype=str)\n",
    "print('Okay Finished')"
   ]
  },
  {
   "cell_type": "code",
   "execution_count": 39,
   "id": "08649c07",
   "metadata": {},
   "outputs": [
    {
     "name": "stdout",
     "output_type": "stream",
     "text": [
      "Okay Finished\n"
     ]
    }
   ],
   "source": [
    "head1 = 'NAME' #TWO: listparams\n",
    "head2 = 'GEO_ID'\n",
    "tail_cols1 = 'StateFIPS'\n",
    "tail_cols2 = 'GeoFIPS'\n",
    "var_list = list(dg2['ACS Variable']) #make variables list\n",
    "var_list = deque(var_list) #add stuff to variables list\n",
    "var_list.appendleft(head2)\n",
    "var_list.appendleft(head1)\n",
    "var_list = list(var_list)\n",
    "col_list = list(dg2['Column Name']) #make columns list\n",
    "col_list.append(tail_cols1) #add stuff to columns list\n",
    "col_list.append(tail_cols2)\n",
    "col_list = deque(col_list)\n",
    "col_list.appendleft(head2)\n",
    "col_list.appendleft(head1)\n",
    "col_list = list(col_list)\n",
    "url_str= 'https://api.census.gov/data/2020/acs/acs5?key='+api_key\n",
    "predicates= {}\n",
    "get_vars= var_list\n",
    "predicates[\"get\"]= \",\". join(get_vars)\n",
    "predicates[\"for\"]= \"county:037\"\n",
    "predicates[\"in\"]= \"state:47\"\n",
    "data= requests.get(url_str, params= predicates)\n",
    "col_names = col_list\n",
    "two=pd.DataFrame(columns=col_names, data=data.json()[1:], dtype=str)\n",
    "print('Okay Finished')"
   ]
  },
  {
   "cell_type": "code",
   "execution_count": 40,
   "id": "deba2e7b",
   "metadata": {},
   "outputs": [
    {
     "name": "stdout",
     "output_type": "stream",
     "text": [
      "Okay Finished\n"
     ]
    }
   ],
   "source": [
    "head1 = 'NAME' #THREE: listparams\n",
    "head2 = 'GEO_ID'\n",
    "tail_cols1 = 'StateFIPS'\n",
    "tail_cols2 = 'GeoFIPS'\n",
    "var_list = list(dg3['ACS Variable']) #make variables list\n",
    "var_list = deque(var_list) #add stuff to variables list\n",
    "var_list.appendleft(head2)\n",
    "var_list.appendleft(head1)\n",
    "var_list = list(var_list)\n",
    "col_list = list(dg3['Column Name']) #make columns list\n",
    "col_list.append(tail_cols1) #add stuff to columns list\n",
    "col_list.append(tail_cols2)\n",
    "col_list = deque(col_list)\n",
    "col_list.appendleft(head2)\n",
    "col_list.appendleft(head1)\n",
    "col_list = list(col_list)\n",
    "url_str= 'https://api.census.gov/data/2020/acs/acs5?key='+api_key\n",
    "predicates= {}\n",
    "get_vars= var_list\n",
    "predicates[\"get\"]= \",\". join(get_vars)\n",
    "predicates[\"for\"]= \"county:037\"\n",
    "predicates[\"in\"]= \"state:47\"\n",
    "data= requests.get(url_str, params= predicates)\n",
    "col_names = col_list\n",
    "three=pd.DataFrame(columns=col_names, data=data.json()[1:], dtype=str)\n",
    "print('Okay Finished')"
   ]
  },
  {
   "cell_type": "code",
   "execution_count": 41,
   "id": "8d60c3e7",
   "metadata": {},
   "outputs": [],
   "source": [
    "last = three"
   ]
  },
  {
   "cell_type": "markdown",
   "id": "031f59eb",
   "metadata": {},
   "source": [
    "## Clean and Join"
   ]
  },
  {
   "cell_type": "code",
   "execution_count": 42,
   "id": "a03793d4",
   "metadata": {},
   "outputs": [],
   "source": [
    "one = one.drop(columns = ['StateFIPS','GeoFIPS'])\n",
    "two = two.drop(columns = ['NAME','StateFIPS','GeoFIPS'])\n",
    "last = last.drop(columns = 'NAME')\n",
    "dfs = [one, two, last]\n",
    "data = reduce(lambda  left,right: pd.merge(left,right,on=['GEO_ID'],\n",
    "                                            how='outer'), dfs)\n",
    "data = data.set_index(['NAME', 'GEO_ID', 'StateFIPS', 'GeoFIPS'])\n",
    "numcols = list(data.columns)\n",
    "data[numcols] = data[numcols].astype(float)\n",
    "data = data.reset_index()"
   ]
  },
  {
   "cell_type": "markdown",
   "id": "ff9e2cbd",
   "metadata": {},
   "source": [
    "## Calculations"
   ]
  },
  {
   "cell_type": "markdown",
   "id": "9ec3f8a6",
   "metadata": {},
   "source": [
    "#### Total Age Groups"
   ]
  },
  {
   "cell_type": "code",
   "execution_count": 44,
   "id": "911fcac8",
   "metadata": {},
   "outputs": [],
   "source": [
    "data = data.copy()\n",
    "data['Total Population'] = data['pop']\n",
    "over65 = [data['age_m_65to66'],data['age_m_67to69'],data['age_m_70to74'],data['age_m_75to79'],data['age_m_80to84'],data['age_m_85+'],data['age_f_65to66'],\n",
    "          data['age_f_67to69'],data['age_f_70to74'],data['age_f_75to79'],data['age_f_80to84'],data['age_f_85+']]\n",
    "data['Total Population Over Age 65'] = sum(over65)\n",
    "data['Percent of Population Over Age 65'] = percent(data['Total Population Over Age 65'], data['Total Population'])"
   ]
  },
  {
   "cell_type": "code",
   "execution_count": 45,
   "id": "c70eee64",
   "metadata": {},
   "outputs": [],
   "source": [
    "cols = ['pop','agebysex_total_series','age_total_male','age_m_u5','age_m_5to9','age_m_10to14','age_m_15to17','age_m_18to19','age_m_20','age_m_21','age_m_22to24',\n",
    "        'age_m_25to29','age_m_30to34','age_m_35to39','age_m_40to44','age_m_45to49','age_m_50to54','age_m_55to59','age_m_60to61','age_m_62to64','age_m_65to66',\n",
    "        'age_m_67to69','age_m_70to74','age_m_75to79','age_m_80to84','age_m_85+','age_total_female','age_f_u5','age_f_5to9','age_f_10to14','age_f_15to17',\n",
    "        'age_f_18to19','age_f_20','age_f_21','age_f_22to24','age_f_25to29','age_f_30to34','age_f_35to39','age_f_40to44','age_f_45to49','age_f_50to54','age_f_55to59',\n",
    "        'age_f_60to61','age_f_62to64','age_f_65to66','age_f_67to69','age_f_70to74','age_f_75to79','age_f_80to84','age_f_85+']\n",
    "data = data.drop(columns = cols)"
   ]
  },
  {
   "cell_type": "markdown",
   "id": "b2c7baa6",
   "metadata": {},
   "source": [
    "#### Tenure and Cost Burden"
   ]
  },
  {
   "cell_type": "code",
   "execution_count": 46,
   "id": "34f045b0",
   "metadata": {},
   "outputs": [],
   "source": [
    "renters65up = data['tenure_renter_65to74']+data['tenure_renter_75to84']+data['tenure_renter_85+']\n",
    "owners65up = data['tenure_owner_65to74']+data['tenure_owner_75to84']+data['tenure_owner_85+']\n",
    "hh65older = [data['tenure_renter_65to74'],data['tenure_renter_75to84'],data['tenure_renter_85+'],data['tenure_owner_65to74'],\n",
    "             data['tenure_owner_75to84'],data['tenure_owner_85+']]\n",
    "householders65up = sum(hh65older)\n",
    "allcostburdeno65 = [data['housing_65+30to34.9%_ownercosts'],data['housing_65+35%ormore_ownercosts'],data['housing_65+30to34.9%_grossrent'],\n",
    "                    data['housing_65+35%ormore_grossrent']]\n",
    "data['Householders 65 and Older Experiencing Cost Burden'] = sum(allcostburdeno65)\n",
    "data['Percent of Householders 65 and Older Experiencing Cost Burden'] = percent(data['Householders 65 and Older Experiencing Cost Burden'], householders65up)\n",
    "data['Renters 65 and Older Experiencing Cost Burden'] = data['housing_65+30to34.9%_grossrent']+data['housing_65+35%ormore_grossrent']\n",
    "data['Percent of Renters 65 and Older Experiencing Cost Burden'] = percent(data['Renters 65 and Older Experiencing Cost Burden'],renters65up)\n",
    "data['Homeowners 65 and Older Experiencing Cost Burden'] = data['housing_65+30to34.9%_ownercosts']+data['housing_65+35%ormore_ownercosts']\n",
    "data['Percent of Homeowners 65 and Older Experiencing Cost Burden'] = percent(data['Homeowners 65 and Older Experiencing Cost Burden'],owners65up)\n",
    "\n",
    "cols = ['tenure_total_agehh_series','tenure_allowneroccupied','tenure_owner_55to59','tenure_owner_60to64','tenure_owner_65to74','tenure_owner_75to84',\n",
    "        'tenure_owner_85+','tenure_allrenteroccupied','tenure_renter_55to59','tenure_renter_60to64','tenure_renter_65to74','tenure_renter_75to84',\n",
    "        'tenure_renter_85+','housing_total_ownercosts','housing_65+total_ownercosts','housing_65+30to34.9%_ownercosts','housing_65+35%ormore_ownercosts',\n",
    "        'housing_total_grossrent','housing_65+total_grossrent','housing_65+30to34.9%_grossrent','housing_65+35%ormore_grossrent']\n",
    "data = data.drop(columns = cols)"
   ]
  },
  {
   "cell_type": "markdown",
   "id": "13973b92",
   "metadata": {},
   "source": [
    "#### Income"
   ]
  },
  {
   "cell_type": "code",
   "execution_count": 47,
   "id": "af153d88",
   "metadata": {},
   "outputs": [],
   "source": [
    "data['Median Household Income Householder 65 and Older'] = data['hhincome_65+_median']\n",
    "lowincome = [data['hhincome_65+_lessthan10000'], data['hhincome_65+_10000to14999'],data['hhincome_65+_15000to19999'],data['hhincome_65+_20000to24999'],\n",
    "            data['hhincome_65+_25000to29999'],data['hhincome_65+_30000to34999'],data['hhincome_65+_35000to39999'],data['hhincome_65+_40000to44999'],\n",
    "            data['hhincome_65+_45000to49999']]\n",
    "data['Household Income Below $50,000 Householder 65 and Older'] = sum(lowincome)\n",
    "\n",
    "cols = ['hhincome_65+_median','hhincome_totalhh65+_series','hhincome_65+_lessthan10000','hhincome_65+_10000to14999','hhincome_65+_15000to19999',\n",
    "        'hhincome_65+_20000to24999','hhincome_65+_25000to29999','hhincome_65+_30000to34999','hhincome_65+_35000to39999','hhincome_65+_40000to44999',\n",
    "        'hhincome_65+_45000to49999','hhincome_65+_50000to55999','hhincome_65+_60000to74999','hhincome_65+_75000to99999','hhincome_65+_100000to124999',\n",
    "        'hhincome_65+_125000to149999','hhincome_65+_150000to199999','hhincome_65+_200000+']\n",
    "data = data.drop(columns = cols)"
   ]
  },
  {
   "cell_type": "markdown",
   "id": "4847aadf",
   "metadata": {},
   "source": [
    "#### Poverty"
   ]
  },
  {
   "cell_type": "code",
   "execution_count": 48,
   "id": "04d40fb7",
   "metadata": {},
   "outputs": [],
   "source": [
    "poverty65up = [data['poverty_m65to74'],data['poverty_m75+'],data['poverty_f65to74'],data['poverty_f75+']]\n",
    "data['Population 65 and Older Living Below Poverty Line'] = sum(poverty65up)\n",
    "\n",
    "cols = ['poverty_total_series','poverty_totalbelowpoverty','poverty_m65to74','poverty_m75+','poverty_f65to74','poverty_f75+']\n",
    "data = data.drop(columns = cols)"
   ]
  },
  {
   "cell_type": "markdown",
   "id": "5b2cdda3",
   "metadata": {},
   "source": [
    "### Prepare for Export and Export"
   ]
  },
  {
   "cell_type": "code",
   "execution_count": 49,
   "id": "cc0f98a1",
   "metadata": {},
   "outputs": [],
   "source": [
    "data = data.drop(columns = ['GEO_ID','StateFIPS','GeoFIPS','Total Population','Percent of Population Over Age 65',\n",
    "                            'Percent of Householders 65 and Older Experiencing Cost Burden','Renters 65 and Older Experiencing Cost Burden',\n",
    "                           'Homeowners 65 and Older Experiencing Cost Burden'])"
   ]
  },
  {
   "cell_type": "code",
   "execution_count": 50,
   "id": "7fe97075",
   "metadata": {},
   "outputs": [
    {
     "data": {
      "text/html": [
       "<div>\n",
       "<style scoped>\n",
       "    .dataframe tbody tr th:only-of-type {\n",
       "        vertical-align: middle;\n",
       "    }\n",
       "\n",
       "    .dataframe tbody tr th {\n",
       "        vertical-align: top;\n",
       "    }\n",
       "\n",
       "    .dataframe thead th {\n",
       "        text-align: right;\n",
       "    }\n",
       "</style>\n",
       "<table border=\"1\" class=\"dataframe\">\n",
       "  <thead>\n",
       "    <tr style=\"text-align: right;\">\n",
       "      <th></th>\n",
       "      <th>NAME</th>\n",
       "      <th>Total Population Over Age 65</th>\n",
       "      <th>Householders 65 and Older Experiencing Cost Burden</th>\n",
       "      <th>Percent of Renters 65 and Older Experiencing Cost Burden</th>\n",
       "      <th>Percent of Homeowners 65 and Older Experiencing Cost Burden</th>\n",
       "      <th>Median Household Income Householder 65 and Older</th>\n",
       "      <th>Household Income Below $50,000 Householder 65 and Older</th>\n",
       "      <th>Population 65 and Older Living Below Poverty Line</th>\n",
       "    </tr>\n",
       "  </thead>\n",
       "  <tbody>\n",
       "    <tr>\n",
       "      <th>0</th>\n",
       "      <td>Davidson County, Tennessee</td>\n",
       "      <td>84748.0</td>\n",
       "      <td>17682.0</td>\n",
       "      <td>52.8</td>\n",
       "      <td>24.21</td>\n",
       "      <td>49128.0</td>\n",
       "      <td>28533.0</td>\n",
       "      <td>8110.0</td>\n",
       "    </tr>\n",
       "  </tbody>\n",
       "</table>\n",
       "</div>"
      ],
      "text/plain": [
       "                         NAME  Total Population Over Age 65  Householders 65 and Older Experiencing Cost Burden  \\\n",
       "0  Davidson County, Tennessee                       84748.0                                            17682.0    \n",
       "\n",
       "   Percent of Renters 65 and Older Experiencing Cost Burden  Percent of Homeowners 65 and Older Experiencing Cost Burden  \\\n",
       "0                                               52.8                                                     24.21             \n",
       "\n",
       "   Median Household Income Householder 65 and Older  Household Income Below $50,000 Householder 65 and Older  \\\n",
       "0                                           49128.0                                            28533.0         \n",
       "\n",
       "   Population 65 and Older Living Below Poverty Line  \n",
       "0                                             8110.0  "
      ]
     },
     "execution_count": 50,
     "metadata": {},
     "output_type": "execute_result"
    }
   ],
   "source": [
    "data.head()"
   ]
  },
  {
   "cell_type": "code",
   "execution_count": 51,
   "id": "5379e366",
   "metadata": {},
   "outputs": [],
   "source": [
    "data.to_csv('../data/65olderdavidsoncounty.csv', index = False)"
   ]
  },
  {
   "cell_type": "code",
   "execution_count": null,
   "id": "c4f292e6",
   "metadata": {},
   "outputs": [],
   "source": []
  }
 ],
 "metadata": {
  "kernelspec": {
   "display_name": "Python 3 (ipykernel)",
   "language": "python",
   "name": "python3"
  },
  "language_info": {
   "codemirror_mode": {
    "name": "ipython",
    "version": 3
   },
   "file_extension": ".py",
   "mimetype": "text/x-python",
   "name": "python",
   "nbconvert_exporter": "python",
   "pygments_lexer": "ipython3",
   "version": "3.8.5"
  }
 },
 "nbformat": 4,
 "nbformat_minor": 5
}
