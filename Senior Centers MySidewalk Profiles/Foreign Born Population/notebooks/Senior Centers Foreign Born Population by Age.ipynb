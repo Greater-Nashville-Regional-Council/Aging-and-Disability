{
 "cells": [
  {
   "cell_type": "markdown",
   "id": "56cc2827",
   "metadata": {},
   "source": [
    "###### Imports and Settings"
   ]
  },
  {
   "cell_type": "code",
   "execution_count": 1,
   "id": "85115f80",
   "metadata": {},
   "outputs": [],
   "source": [
    "import pandas as pd\n",
    "import numpy as np\n",
    "import requests\n",
    "import pickle"
   ]
  },
  {
   "cell_type": "markdown",
   "id": "6c3f9cb4",
   "metadata": {},
   "source": [
    "# Foreign Born Population by Age for the GNRC Senior Centers\n",
    "\n",
    "This data is not available on MySidewalk, where these senior center profiles are hosted. This notebook contains the API pulls and the data cleaning process necessary to include this as outside data in these profiles."
   ]
  },
  {
   "cell_type": "code",
   "execution_count": null,
   "id": "1605e3b4",
   "metadata": {},
   "outputs": [],
   "source": [
    "GNRC = ['161', #Stewart\n",
    "       '125', #Montgomery\n",
    "       '083', #Houston\n",
    "       '085', #Humphreys\n",
    "       '043', #Dickson\n",
    "       '021', #Cheatham\n",
    "       '147', #Robertson\n",
    "       '165', #Sumner\n",
    "       '037', #Davidson\n",
    "       '189', #Wilson\n",
    "       '169', #Trousdale\n",
    "       '187', #Williamson\n",
    "       '149'] #Rutherford"
   ]
  },
  {
   "cell_type": "code",
   "execution_count": 4,
   "id": "5a40b16d",
   "metadata": {},
   "outputs": [],
   "source": [
    "#to read in... rb is read bite\n",
    "with open('api_keys.pkl', 'rb') as keys_file:\n",
    "        keys_dict_2 = pickle.load(keys_file)"
   ]
  },
  {
   "cell_type": "code",
   "execution_count": 5,
   "id": "a8a097fd",
   "metadata": {},
   "outputs": [],
   "source": [
    "#create a variable that contains your api key\n",
    "api_key_census = keys_dict_2['CENSUS']"
   ]
  },
  {
   "cell_type": "markdown",
   "id": "e8cbf5a7",
   "metadata": {},
   "source": [
    "Can come back to this... it is in MySidewalk for 60+, so I'm going to focus on building the profiles since place of birth took so long."
   ]
  },
  {
   "cell_type": "code",
   "execution_count": null,
   "id": "a2d6110c",
   "metadata": {},
   "outputs": [],
   "source": []
  }
 ],
 "metadata": {
  "kernelspec": {
   "display_name": "Python 3 (ipykernel)",
   "language": "python",
   "name": "python3"
  },
  "language_info": {
   "codemirror_mode": {
    "name": "ipython",
    "version": 3
   },
   "file_extension": ".py",
   "mimetype": "text/x-python",
   "name": "python",
   "nbconvert_exporter": "python",
   "pygments_lexer": "ipython3",
   "version": "3.8.5"
  }
 },
 "nbformat": 4,
 "nbformat_minor": 5
}
